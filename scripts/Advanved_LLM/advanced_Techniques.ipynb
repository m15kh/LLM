{
 "cells": [
  {
   "cell_type": "code",
   "execution_count": 13,
   "id": "478f8665",
   "metadata": {},
   "outputs": [],
   "source": [
    "from langchain import LlamaCpp\n"
   ]
  },
  {
   "cell_type": "code",
   "execution_count": 14,
   "id": "adf4098a",
   "metadata": {},
   "outputs": [
    {
     "name": "stderr",
     "output_type": "stream",
     "text": [
      "llama_init_from_model: n_batch is less than GGML_KQ_MASK_PAD - increasing to 64\n",
      "llama_init_from_model: n_ctx_per_seq (2048) < n_ctx_train (4096) -- the full capacity of the model will not be utilized\n"
     ]
    }
   ],
   "source": [
    "llm = LlamaCpp(\n",
    "model_path=\"../../checkpoints/Phi-3-mini-4k-instruct-fp16.gguf\",\n",
    "n_gpu_layers=-1,\n",
    "max_tokens=500,\n",
    "n_ctx=2048,\n",
    "seed=42,\n",
    "verbose=False\n",
    ")"
   ]
  },
  {
   "cell_type": "code",
   "execution_count": 19,
   "id": "0eb46ab1",
   "metadata": {},
   "outputs": [
    {
     "data": {
      "text/plain": [
       "'?'"
      ]
     },
     "execution_count": 19,
     "metadata": {},
     "output_type": "execute_result"
    }
   ],
   "source": [
    "llm.invoke(\"hi gpt how are you\")"
   ]
  },
  {
   "cell_type": "code",
   "execution_count": 20,
   "id": "86a2173a",
   "metadata": {},
   "outputs": [],
   "source": [
    "\n",
    "from langchain import PromptTemplate\n",
    "\n",
    "template = \"\"\"\n",
    "<s><|User|>\n",
    "{input_prompt}<|end|>\n",
    "<|Assistant|><|end|>\n",
    "\"\"\"\n",
    "\n",
    "prompt = PromptTemplate(\n",
    "    template = template,\n",
    "    input_variables = [\"input_prompt\"]\n",
    ")"
   ]
  },
  {
   "cell_type": "code",
   "execution_count": 21,
   "id": "616e24bc",
   "metadata": {},
   "outputs": [],
   "source": [
    "basic_chain  = prompt | llm"
   ]
  },
  {
   "cell_type": "code",
   "execution_count": 22,
   "id": "03d4b652",
   "metadata": {},
   "outputs": [
    {
     "data": {
      "text/plain": [
       "\"<|assistant|> Hello Maarten! It's great to meet you. The answer to 1 + 1 is 2. Mathematics makes it clear and easy: when you add one unit to another, you end up with two units in total.\""
      ]
     },
     "execution_count": 22,
     "metadata": {},
     "output_type": "execute_result"
    }
   ],
   "source": [
    "basic_chain.invoke(\n",
    "    {\n",
    "        \"input_prompt\": \"Hi! My name is Maarten. What is 1 + 1?\",\n",
    "\n",
    "    }\n",
    ")"
   ]
  },
  {
   "cell_type": "markdown",
   "id": "c88b9be4",
   "metadata": {},
   "source": [
    " name_template = "
   ]
  }
 ],
 "metadata": {
  "kernelspec": {
   "display_name": "llm",
   "language": "python",
   "name": "python3"
  },
  "language_info": {
   "codemirror_mode": {
    "name": "ipython",
    "version": 3
   },
   "file_extension": ".py",
   "mimetype": "text/x-python",
   "name": "python",
   "nbconvert_exporter": "python",
   "pygments_lexer": "ipython3",
   "version": "3.12.6"
  }
 },
 "nbformat": 4,
 "nbformat_minor": 5
}
