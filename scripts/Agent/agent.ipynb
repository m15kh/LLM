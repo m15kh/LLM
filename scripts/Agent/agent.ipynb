{
 "cells": [
  {
   "cell_type": "code",
   "execution_count": 1,
   "id": "947e34b2",
   "metadata": {},
   "outputs": [
    {
     "ename": "KeyError",
     "evalue": "'GILAS_API_KEY'",
     "output_type": "error",
     "traceback": [
      "\u001b[31m---------------------------------------------------------------------------\u001b[39m",
      "\u001b[31mKeyError\u001b[39m                                  Traceback (most recent call last)",
      "\u001b[36mCell\u001b[39m\u001b[36m \u001b[39m\u001b[32mIn[1]\u001b[39m\u001b[32m, line 13\u001b[39m\n\u001b[32m     11\u001b[39m os.environ[\u001b[33m\"\u001b[39m\u001b[33mTAVILY_API_KEY\u001b[39m\u001b[33m\"\u001b[39m] = config[\u001b[33m\"\u001b[39m\u001b[33mTAVILY_API_KEY\u001b[39m\u001b[33m\"\u001b[39m]\n\u001b[32m     12\u001b[39m os.environ[\u001b[33m'\u001b[39m\u001b[33mHUGGINGFACEHUB_API_TOKEN\u001b[39m\u001b[33m'\u001b[39m] = config[\u001b[33m'\u001b[39m\u001b[33mHUGGINGFACEHUB_API_TOKEN\u001b[39m\u001b[33m'\u001b[39m]\n\u001b[32m---> \u001b[39m\u001b[32m13\u001b[39m GILAS_API_KEY = \u001b[43mconfig\u001b[49m\u001b[43m[\u001b[49m\u001b[33;43m'\u001b[39;49m\u001b[33;43mGILAS_API_KEY\u001b[39;49m\u001b[33;43m'\u001b[39;49m\u001b[43m]\u001b[49m\n",
      "\u001b[31mKeyError\u001b[39m: 'GILAS_API_KEY'"
     ]
    }
   ],
   "source": [
    "import yaml\n",
    "import os\n",
    "from pprint import pprint\n",
    "from SmartAITool.core import bprint\n",
    "# Load API configuration from a YAML file\n",
    "with open(\"/home/rteam2/m15kh/LLM/config.yaml\", \"r\") as file:\n",
    "    config = yaml.safe_load(file)\n",
    "\n",
    "os.environ[\"LANGSMITH_TRACING\"] = config.get(\"LANGSMITH_TRACING\", \"false\")\n",
    "os.environ[\"LANGSMITH_API_KEY\"] = config[\"LANGSMITH_API_KEY\"]\n",
    "os.environ[\"TAVILY_API_KEY\"] = config[\"TAVILY_API_KEY\"]\n",
    "os.environ['HUGGINGFACEHUB_API_TOKEN'] = config['HUGGINGFACEHUB_API_TOKEN']\n",
    "GILAS_API_KEY = config['GILAS_API_KEY']"
   ]
  },
  {
   "cell_type": "code",
   "execution_count": 5,
   "id": "889c56c3",
   "metadata": {},
   "outputs": [
    {
     "name": "stdout",
     "output_type": "stream",
     "text": [
      "[{'title': 'President of Iran - Wikipedia', 'url': 'https://en.wikipedia.org/wiki/President_of_Iran', 'content': 'The president of the Islamic Republic of Iran (Persian: رئیس\\u200cجمهور ایران, romanized:\\xa0Rais Jomhur-e Irān) is the head of government of the Islamic Republic of Iran and the second highest-ranking official, after the supreme leader.[3] The first election was held in 1980 and was won by Abulhassan Banisadr. Masoud Pezeshkian currently serves as the president of Iran, after being elected in the 2024 Iranian presidential election and being officially endorsed by the supreme leader.[4] [...] | This articleneeds additional citations forverification.Please helpimprove this articlebyadding citations to reliable sources. Unsourced material may be challenged and removed.Find sources:\"President of Iran\"–news·newspapers·books·scholar·JSTOR(April 2025)(Learn how and when to remove this message)\\nPresident of theIslamic Republic of Iran\\nرئیس جمهوری اسلامی ایران(Persian)\\nSeal of the Presidential Administration of Iran\\nIncumbentMasoud Pezeshkiansince\\xa028 July 2024\\nPresidential Administration [...] vtePresidents of Iran(list)\\nAbolhassan Banisadr(1980–1981)Mohammad-Ali Rajai(1981)Ali Khamenei(1981–1989)Akbar Hashemi Rafsanjani(1989–1997)Mohammad Khatami(1997–2005)Mahmoud Ahmadinejad(2005–2013)Hassan Rouhani(2013–2021)Ebrahim Raisi(2021–2024)Mohammad Mokhber(acting, 2024)Masoud Pezeshkian(2024–present)\\nvteMinistries of Iran', 'score': 0.91306627}, {'title': \"Reformist Masoud Pezeshkian elected as Iran's president | BBC News\", 'url': 'https://www.youtube.com/watch?v=5IdLZbT-VjM', 'content': \"Reformist Masoud Pezeshkian has been elected as Iran's new president, after beating his hardline conservative rival Saeed Jalili by nearly\", 'score': 0.86052185}]\n"
     ]
    }
   ],
   "source": [
    "from langchain_community.tools.tavily_search import TavilySearchResults\n",
    "\n",
    "search = TavilySearchResults(max_results = 2)\n",
    "question = 'who is the currently  president of iran'\n",
    "search_results = search.invoke(question)\n",
    "print(search_results)\n",
    "tools = [search]\n"
   ]
  },
  {
   "cell_type": "code",
   "execution_count": 3,
   "id": "71b28ee3",
   "metadata": {},
   "outputs": [],
   "source": [
    "from langchain_openai import ChatOpenAI\n",
    "from langchain.chat_models import init_chat_model\n",
    "\n",
    "model = init_chat_model(\n",
    "    api_key= GILAS_API_KEY,\n",
    "    base_url=\"https://api.gilas.io/v1/\",\n",
    "    model=\"gpt-4o\")\n",
    "\n"
   ]
  },
  {
   "cell_type": "code",
   "execution_count": 6,
   "id": "bec70e4f",
   "metadata": {},
   "outputs": [
    {
     "name": "stdout",
     "output_type": "stream",
     "text": [
      "'ContentString: Hello! How can I assist you today?'\n",
      "'ToolCalls: []'\n"
     ]
    }
   ],
   "source": [
    "from langchain_core.messages import HumanMessage\n",
    "\n",
    "model_with_tools = model.bind_tools(tools)\n",
    "response = model_with_tools.invoke([HumanMessage(content=\"Hi!\")])\n",
    "\n",
    "pprint(f\"ContentString: {response.content}\")\n",
    "pprint(f\"ToolCalls: {response.tool_calls}\")"
   ]
  },
  {
   "cell_type": "code",
   "execution_count": 7,
   "id": "df5a5c48",
   "metadata": {},
   "outputs": [
    {
     "name": "stdout",
     "output_type": "stream",
     "text": [
      "ContentString: \n",
      "ToolCalls: [{'name': 'tavily_search_results_json', 'args': {'query': 'current president of Iran 2023'}, 'id': 'call_52a8xMi50jQRpSpI00m9M3WY', 'type': 'tool_call'}]\n"
     ]
    }
   ],
   "source": [
    "response = model_with_tools.invoke([HumanMessage(content=question)])\n",
    "\n",
    "print(f\"ContentString: {response.content}\")\n",
    "print(f\"ToolCalls: {response.tool_calls}\")"
   ]
  },
  {
   "cell_type": "code",
   "execution_count": 15,
   "id": "e5418437",
   "metadata": {},
   "outputs": [
    {
     "data": {
      "text/plain": [
       "[HumanMessage(content='who is the currently  president of iran', additional_kwargs={}, response_metadata={}, id='d25eb450-c9aa-45ef-8ab6-098d6dca3950'),\n",
       " AIMessage(content='', additional_kwargs={'tool_calls': [{'id': 'call_hQLIJsAKeXi0dh2xHH1WWPBl', 'function': {'arguments': '{\"query\":\"current president of Iran 2023\"}', 'name': 'tavily_search_results_json'}, 'type': 'function'}], 'refusal': None}, response_metadata={'token_usage': {'completion_tokens': 25, 'prompt_tokens': 87, 'total_tokens': 112, 'completion_tokens_details': {'accepted_prediction_tokens': 0, 'audio_tokens': 0, 'reasoning_tokens': 0, 'rejected_prediction_tokens': 0}, 'prompt_tokens_details': {'audio_tokens': 0, 'cached_tokens': 0}}, 'model_name': 'gpt-4o-2024-08-06', 'system_fingerprint': 'fp_f5bdcc3276', 'id': 'chatcmpl-BUB6hZ8r4gcpX36ymBM4iu9JJ3ZJw', 'service_tier': 'default', 'finish_reason': 'tool_calls', 'logprobs': None}, id='run--f7520b4f-17a4-46f5-a741-469ba42c9b8d-0', tool_calls=[{'name': 'tavily_search_results_json', 'args': {'query': 'current president of Iran 2023'}, 'id': 'call_hQLIJsAKeXi0dh2xHH1WWPBl', 'type': 'tool_call'}], usage_metadata={'input_tokens': 87, 'output_tokens': 25, 'total_tokens': 112, 'input_token_details': {'audio': 0, 'cache_read': 0}, 'output_token_details': {'audio': 0, 'reasoning': 0}}),\n",
       " ToolMessage(content='[{\"title\": \"List of presidents of Iran - Wikipedia\", \"url\": \"https://en.wikipedia.org/wiki/List_of_presidents_of_Iran\", \"content\": \"Ali Khamenei, Akbar Hashemi Rafsanjani, Mohammad Khatami, Mahmoud Ahmadinejad and Hassan Rouhani were each elected president for two terms. Ebrahim Raisi was the eighth president, serving from his election in 2021 until his death on May 19, 2024 leaving the office occupied in an acting capacity by First Vice President Mohammad Mokhber. Masoud Pezeshkian was elected as the current president on July 6, 2024.\\\\n\\\\nList of officeholders [...] See also\\\\n\\\\nReferences\\\\n\\\\nvtePresidents of Iran(list)\\\\nAbolhassan Banisadr(1980–1981)Mohammad-Ali Rajai(1981)Ali Khamenei(1981–1989)Akbar Hashemi Rafsanjani(1989–1997)Mohammad Khatami(1997–2005)Mahmoud Ahmadinejad(2005–2013)Hassan Rouhani(2013–2021)Ebrahim Raisi(2021–2024)Mohammad Mokhber(acting, 2024)Masoud Pezeshkian(2024–present) [...] This is a list of the presidents of the Islamic Republic of Iran since the establishment of that office in 1980. The president of Iran is the highest popularly elected official in the country. The current president, Masoud Pezeshkian has been in office since 28 July 2024 after winning the 2024 presidential election.\", \"score\": 0.79939574}, {\"title\": \"Man on a Wire: A Way Forward for Iran\\'s New President | Crisis Group\", \"url\": \"https://www.crisisgroup.org/middle-east-north-africa/245-gulf-and-arabian-peninsula/iran/man-wire-way-forward-irans-new-president\", \"content\": \"Iran\\'s new president, Masoud Pezeshkian, comes to office having pledged to pursue change while seeking political cohesion, conscious of the formidable\", \"score\": 0.6747586}]', name='tavily_search_results_json', id='356356fa-f415-41c4-a1ee-2e037fee396c', tool_call_id='call_hQLIJsAKeXi0dh2xHH1WWPBl', artifact={'query': 'current president of Iran 2023', 'follow_up_questions': None, 'answer': None, 'images': [], 'results': [{'url': 'https://en.wikipedia.org/wiki/List_of_presidents_of_Iran', 'title': 'List of presidents of Iran - Wikipedia', 'content': 'Ali Khamenei, Akbar Hashemi Rafsanjani, Mohammad Khatami, Mahmoud Ahmadinejad and Hassan Rouhani were each elected president for two terms. Ebrahim Raisi was the eighth president, serving from his election in 2021 until his death on May 19, 2024 leaving the office occupied in an acting capacity by First Vice President Mohammad Mokhber. Masoud Pezeshkian was elected as the current president on July 6, 2024.\\n\\nList of officeholders [...] See also\\n\\nReferences\\n\\nvtePresidents of Iran(list)\\nAbolhassan Banisadr(1980–1981)Mohammad-Ali Rajai(1981)Ali Khamenei(1981–1989)Akbar Hashemi Rafsanjani(1989–1997)Mohammad Khatami(1997–2005)Mahmoud Ahmadinejad(2005–2013)Hassan Rouhani(2013–2021)Ebrahim Raisi(2021–2024)Mohammad Mokhber(acting, 2024)Masoud Pezeshkian(2024–present) [...] This is a list of the presidents of the Islamic Republic of Iran since the establishment of that office in 1980. The president of Iran is the highest popularly elected official in the country. The current president, Masoud Pezeshkian has been in office since 28 July 2024 after winning the 2024 presidential election.', 'score': 0.79939574, 'raw_content': None}, {'url': 'https://www.crisisgroup.org/middle-east-north-africa/245-gulf-and-arabian-peninsula/iran/man-wire-way-forward-irans-new-president', 'title': \"Man on a Wire: A Way Forward for Iran's New President | Crisis Group\", 'content': \"Iran's new president, Masoud Pezeshkian, comes to office having pledged to pursue change while seeking political cohesion, conscious of the formidable\", 'score': 0.6747586, 'raw_content': None}], 'response_time': 1.36}),\n",
       " AIMessage(content='The current President of Iran is Masoud Pezeshkian, who has been in office since July 6, 2024.', additional_kwargs={'refusal': None}, response_metadata={'token_usage': {'completion_tokens': 30, 'prompt_tokens': 594, 'total_tokens': 624, 'completion_tokens_details': {'accepted_prediction_tokens': 0, 'audio_tokens': 0, 'reasoning_tokens': 0, 'rejected_prediction_tokens': 0}, 'prompt_tokens_details': {'audio_tokens': 0, 'cached_tokens': 0}}, 'model_name': 'gpt-4o-2024-08-06', 'system_fingerprint': 'fp_f5bdcc3276', 'id': 'chatcmpl-BUB6mmIZt5vfZa3Np5BzXxk1U8HV9', 'service_tier': 'default', 'finish_reason': 'stop', 'logprobs': None}, id='run--d929b49e-4916-4f38-827f-76f237b227b6-0', usage_metadata={'input_tokens': 594, 'output_tokens': 30, 'total_tokens': 624, 'input_token_details': {'audio': 0, 'cache_read': 0}, 'output_token_details': {'audio': 0, 'reasoning': 0}})]"
      ]
     },
     "execution_count": 15,
     "metadata": {},
     "output_type": "execute_result"
    }
   ],
   "source": [
    "response = agent_executor.invoke(\n",
    "    {\"messages\": [HumanMessage(content=question)]}\n",
    ")\n",
    "response[\"messages\"]"
   ]
  },
  {
   "cell_type": "code",
   "execution_count": 16,
   "id": "39df9e61",
   "metadata": {},
   "outputs": [
    {
     "name": "stdout",
     "output_type": "stream",
     "text": [
      "================================\u001b[1m Human Message \u001b[0m=================================\n",
      "\n",
      "who is the currently  president of iran\n",
      "==================================\u001b[1m Ai Message \u001b[0m==================================\n",
      "Tool Calls:\n",
      "  tavily_search_results_json (call_pBFC7zK9oTPpccjM5Rg1vOF0)\n",
      " Call ID: call_pBFC7zK9oTPpccjM5Rg1vOF0\n",
      "  Args:\n",
      "    query: current president of Iran 2023\n",
      "=================================\u001b[1m Tool Message \u001b[0m=================================\n",
      "Name: tavily_search_results_json\n",
      "\n",
      "[{\"title\": \"List of presidents of Iran - Wikipedia\", \"url\": \"https://en.wikipedia.org/wiki/List_of_presidents_of_Iran\", \"content\": \"Ali Khamenei, Akbar Hashemi Rafsanjani, Mohammad Khatami, Mahmoud Ahmadinejad and Hassan Rouhani were each elected president for two terms. Ebrahim Raisi was the eighth president, serving from his election in 2021 until his death on May 19, 2024 leaving the office occupied in an acting capacity by First Vice President Mohammad Mokhber. Masoud Pezeshkian was elected as the current president on July 6, 2024.\\n\\nList of officeholders [...] List of presidents of Iran\\n\\n\\n\\nThis is a list of the presidents of the Islamic Republic of Iran since the establishment of that office in 1980. The president of Iran is the highest popularly elected official in the country. The current president, Masoud Pezeshkian has been in office since 28 July 2024 after winning the 2024 presidential election.\\n\\nContents\\n\\nBackground [...] 8 |  | Ebrahim Raisiابراهیم رئیسی(1960–2024) | 3 August 2021 | 19 May 2024[b] | 2 years, 290 days | CCA | 2021 | Chief Justice(2019–2021) | Mohammad Mokhber | Raisi\\n– |  | Mohammad Mokhber[a]محمد مخبر(born 1955)Acting | 19 May 2024 | 28 July 2024 | 70 days | Independent | – | Vice President(2021–2024) | – | Mokhber\", \"score\": 0.79939574}, {\"title\": \"Man on a Wire: A Way Forward for Iran's New President | Crisis Group\", \"url\": \"https://www.crisisgroup.org/middle-east-north-africa/245-gulf-and-arabian-peninsula/iran/man-wire-way-forward-irans-new-president\", \"content\": \"Iran's new president, Masoud Pezeshkian, comes to office having pledged to pursue change while seeking political cohesion, conscious of the formidable\", \"score\": 0.6747586}]\n",
      "==================================\u001b[1m Ai Message \u001b[0m==================================\n",
      "\n",
      "The current president of Iran is Masoud Pezeshkian, who has been in office since July 28, 2024.\n"
     ]
    }
   ],
   "source": [
    "for step in agent_executor.stream(\n",
    "    {\"messages\": [HumanMessage(content=question)]},\n",
    "    stream_mode=\"values\",\n",
    "):\n",
    "    step[\"messages\"][-1].pretty_print()"
   ]
  },
  {
   "cell_type": "code",
   "execution_count": 17,
   "id": "d35f71dc",
   "metadata": {},
   "outputs": [],
   "source": [
    "from langgraph.checkpoint.memory import MemorySaver\n",
    "\n",
    "memory = MemorySaver()"
   ]
  },
  {
   "cell_type": "code",
   "execution_count": 18,
   "id": "526b757b",
   "metadata": {},
   "outputs": [],
   "source": [
    "agent_executor = create_react_agent(model, tools, checkpointer=memory)\n",
    "\n",
    "config = {\"configurable\": {\"thread_id\": \"abc123\"}}"
   ]
  },
  {
   "cell_type": "code",
   "execution_count": 19,
   "id": "e10c7e32",
   "metadata": {},
   "outputs": [
    {
     "name": "stdout",
     "output_type": "stream",
     "text": [
      "{'agent': {'messages': [AIMessage(content='Hello Bob! How can I assist you today?', additional_kwargs={'refusal': None}, response_metadata={'token_usage': {'completion_tokens': 12, 'prompt_tokens': 83, 'total_tokens': 95, 'completion_tokens_details': {'accepted_prediction_tokens': 0, 'audio_tokens': 0, 'reasoning_tokens': 0, 'rejected_prediction_tokens': 0}, 'prompt_tokens_details': {'audio_tokens': 0, 'cached_tokens': 0}}, 'model_name': 'gpt-4o-2024-08-06', 'system_fingerprint': 'fp_f5bdcc3276', 'id': 'chatcmpl-BUBBChe7Oorr8HeyQFsSVyzE3fWyS', 'service_tier': 'default', 'finish_reason': 'stop', 'logprobs': None}, id='run--9660b67f-3468-47ff-9066-e22755934043-0', usage_metadata={'input_tokens': 83, 'output_tokens': 12, 'total_tokens': 95, 'input_token_details': {'audio': 0, 'cache_read': 0}, 'output_token_details': {'audio': 0, 'reasoning': 0}})]}}\n",
      "----\n"
     ]
    }
   ],
   "source": [
    "for chunk in agent_executor.stream(\n",
    "    {\"messages\": [HumanMessage(content=\"hi im bob!\")]}, config\n",
    "):\n",
    "    print(chunk)\n",
    "    print(\"----\")"
   ]
  },
  {
   "cell_type": "code",
   "execution_count": 20,
   "id": "53cf036a",
   "metadata": {},
   "outputs": [
    {
     "name": "stdout",
     "output_type": "stream",
     "text": [
      "{'agent': {'messages': [AIMessage(content='Your name is Bob!', additional_kwargs={'refusal': None}, response_metadata={'token_usage': {'completion_tokens': 7, 'prompt_tokens': 106, 'total_tokens': 113, 'completion_tokens_details': {'accepted_prediction_tokens': 0, 'audio_tokens': 0, 'reasoning_tokens': 0, 'rejected_prediction_tokens': 0}, 'prompt_tokens_details': {'audio_tokens': 0, 'cached_tokens': 0}}, 'model_name': 'gpt-4o-2024-08-06', 'system_fingerprint': 'fp_f5bdcc3276', 'id': 'chatcmpl-BUBBcph9OpWNqvThCi7cWdOaEDLyE', 'service_tier': 'default', 'finish_reason': 'stop', 'logprobs': None}, id='run--becbe6c7-e50e-494e-8593-a6c149d5e5fa-0', usage_metadata={'input_tokens': 106, 'output_tokens': 7, 'total_tokens': 113, 'input_token_details': {'audio': 0, 'cache_read': 0}, 'output_token_details': {'audio': 0, 'reasoning': 0}})]}}\n",
      "----\n"
     ]
    }
   ],
   "source": [
    "for chunk in agent_executor.stream(\n",
    "    {\"messages\": [HumanMessage(content=\"whats my name?\")]}, config\n",
    "):\n",
    "    print(chunk)\n",
    "    print(\"----\")"
   ]
  },
  {
   "cell_type": "code",
   "execution_count": 21,
   "id": "2587a8df",
   "metadata": {},
   "outputs": [
    {
     "name": "stdout",
     "output_type": "stream",
     "text": [
      "{'agent': {'messages': [AIMessage(content=\"I'm sorry, but I don't have access to your personal information, including your name.\", additional_kwargs={'refusal': None}, response_metadata={'token_usage': {'completion_tokens': 19, 'prompt_tokens': 84, 'total_tokens': 103, 'completion_tokens_details': {'accepted_prediction_tokens': 0, 'audio_tokens': 0, 'reasoning_tokens': 0, 'rejected_prediction_tokens': 0}, 'prompt_tokens_details': {'audio_tokens': 0, 'cached_tokens': 0}}, 'model_name': 'gpt-4o-2024-08-06', 'system_fingerprint': 'fp_f5bdcc3276', 'id': 'chatcmpl-BUBC4dq6WNVe9mvGDD4COlZIRvMBX', 'service_tier': 'default', 'finish_reason': 'stop', 'logprobs': None}, id='run--e0a0c31c-ac76-42d9-ad13-3c2796e03e09-0', usage_metadata={'input_tokens': 84, 'output_tokens': 19, 'total_tokens': 103, 'input_token_details': {'audio': 0, 'cache_read': 0}, 'output_token_details': {'audio': 0, 'reasoning': 0}})]}}\n",
      "----\n"
     ]
    }
   ],
   "source": [
    "config = {\"configurable\": {\"thread_id\": \"xyz123\"}}\n",
    "for chunk in agent_executor.stream(\n",
    "    {\"messages\": [HumanMessage(content=\"whats my name?\")]}, config\n",
    "):\n",
    "    print(chunk)\n",
    "    print(\"----\")"
   ]
  }
 ],
 "metadata": {
  "kernelspec": {
   "display_name": "llm",
   "language": "python",
   "name": "python3"
  },
  "language_info": {
   "codemirror_mode": {
    "name": "ipython",
    "version": 3
   },
   "file_extension": ".py",
   "mimetype": "text/x-python",
   "name": "python",
   "nbconvert_exporter": "python",
   "pygments_lexer": "ipython3",
   "version": "3.12.8"
  }
 },
 "nbformat": 4,
 "nbformat_minor": 5
}
