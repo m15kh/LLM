{
 "cells": [
  {
   "cell_type": "code",
   "execution_count": 1,
   "id": "947e34b2",
   "metadata": {},
   "outputs": [],
   "source": [
    "import yaml\n",
    "import os\n",
    "from pprint import pprint\n",
    "from SmartAITool.core import bprint\n",
    "# Load API configuration from a YAML file\n",
    "with open(\"/home/rteam2/m15kh/LLM/config.yaml\", \"r\") as file:\n",
    "    config = yaml.safe_load(file)\n",
    "\n",
    "os.environ[\"LANGSMITH_TRACING\"] = config.get(\"LANGSMITH_TRACING\", \"false\")\n",
    "os.environ[\"LANGSMITH_API_KEY\"] = config[\"LANGSMITH_API_KEY\"]\n",
    "os.environ[\"TAVILY_API_KEY\"] = config[\"TAVILY_API_KEY\"]\n",
    "os.environ['HUGGINGFACEHUB_API_TOKEN'] = config['HUGGINGFACEHUB_API_TOKEN']"
   ]
  },
  {
   "cell_type": "code",
   "execution_count": 2,
   "id": "889c56c3",
   "metadata": {},
   "outputs": [
    {
     "name": "stdout",
     "output_type": "stream",
     "text": [
      "[{'title': 'President of Iran - Wikipedia', 'url': 'https://en.wikipedia.org/wiki/President_of_Iran', 'content': 'The president of the Islamic Republic of Iran (Persian: رئیس\\u200cجمهور ایران, romanized:\\xa0Rais Jomhur-e Irān) is the head of government of the Islamic Republic of Iran and the second highest-ranking official, after the supreme leader.[3] The first election was held in 1980 and was won by Abulhassan Banisadr. Masoud Pezeshkian currently serves as the president of Iran, after being elected in the 2024 Iranian presidential election and being officially endorsed by the supreme leader.[4] [...] | This articleneeds additional citations forverification.Please helpimprove this articlebyadding citations to reliable sources. Unsourced material may be challenged and removed.Find sources:\"President of Iran\"–news·newspapers·books·scholar·JSTOR(April 2025)(Learn how and when to remove this message)\\nPresident of theIslamic Republic of Iran\\nرئیس جمهوری اسلامی ایران(Persian)\\nSeal of the Presidential Administration of Iran\\nIncumbentMasoud Pezeshkiansince\\xa028 July 2024\\nPresidential Administration [...] vtePresidents of Iran(list)\\nAbolhassan Banisadr(1980–1981)Mohammad-Ali Rajai(1981)Ali Khamenei(1981–1989)Akbar Hashemi Rafsanjani(1989–1997)Mohammad Khatami(1997–2005)Mahmoud Ahmadinejad(2005–2013)Hassan Rouhani(2013–2021)Ebrahim Raisi(2021–2024)Mohammad Mokhber(acting, 2024)Masoud Pezeshkian(2024–present)\\nvteMinistries of Iran', 'score': 0.90830135}, {'title': 'List of Presidents of Iran | Leaders, How Many, & Heads of State', 'url': 'https://www.britannica.com/topic/List-of-Presidents-of-Iran', 'content': 'Masoud Pezeshkian - photographed in an undated handout image. Newly elected President of Iran Pezeshkian, Masoud Pezeshkian, 2024–, Pezeshkian', 'score': 0.846159}]\n"
     ]
    }
   ],
   "source": [
    "from langchain_community.tools.tavily_search import TavilySearchResults\n",
    "\n",
    "search = TavilySearchResults(max_results = 2)\n",
    "question = 'who is the president of iran'\n",
    "search_results = search.invoke(question)\n",
    "print(search_results)\n",
    "tools = [search]\n"
   ]
  },
  {
   "cell_type": "code",
   "execution_count": 3,
   "id": "71b28ee3",
   "metadata": {},
   "outputs": [
    {
     "name": "stderr",
     "output_type": "stream",
     "text": [
      "/home/rteam2/miniforge3/envs/llm/lib/python3.12/site-packages/tqdm/auto.py:21: TqdmWarning: IProgress not found. Please update jupyter and ipywidgets. See https://ipywidgets.readthedocs.io/en/stable/user_install.html\n",
      "  from .autonotebook import tqdm as notebook_tqdm\n",
      "Loading checkpoint shards: 100%|██████████| 2/2 [00:01<00:00,  1.60it/s]\n",
      "Device set to use cuda:0\n"
     ]
    }
   ],
   "source": [
    "from langchain_openai import ChatOpenAI\n",
    "\n",
    "model = ChatOpenAI(\n",
    "    api_key=\"GILAS_API_KEY\",\n",
    "    base_url=\"https://api.gilas.io/v1/\",\n",
    "    model=\"gpt-4o-mini\")"
   ]
  },
  {
   "cell_type": "code",
   "execution_count": 5,
   "id": "c7da8728",
   "metadata": {},
   "outputs": [
    {
     "name": "stdout",
     "output_type": "stream",
     "text": [
      "<think>\n",
      "Okay, the user said \"hi\". I need to respond appropriately. Since they're just greeting me, I should acknowledge their greeting and offer assistance. Maybe say something like \"Hello! How can I assist you today?\" to keep it friendly and open-ended. Let them know I'm here to help with any questions or tasks they have. Keep it simple and welcoming.\n",
      "</think>\n",
      "\n",
      "Hello! How can I assist you today? 😊\n"
     ]
    }
   ],
   "source": [
    "from langchain_core.messages import (\n",
    "    HumanMessage,\n",
    "    SystemMessage,\n",
    ")\n",
    "\n",
    "messages = [\n",
    "    SystemMessage(content=\"You're a helpful assistant\"),\n",
    "    HumanMessage(\n",
    "        content=\"hi\"\n",
    "    ),\n",
    "]\n",
    "\n",
    "ai_msg = model.invoke(messages)\n",
    "\n",
    "\n",
    "print(ai_msg.content)"
   ]
  },
  {
   "cell_type": "code",
   "execution_count": 6,
   "id": "bec70e4f",
   "metadata": {},
   "outputs": [
    {
     "name": "stdout",
     "output_type": "stream",
     "text": [
      "('ContentString: <think>\\n'\n",
      " 'Okay, the user said \"Hi!\" so I need to respond appropriately. Let me start '\n",
      " 'by acknowledging their greeting. I should make sure to be friendly and '\n",
      " \"open-ended. Maybe ask how they're doing? That's a common way to initiate a \"\n",
      " 'conversation. Also, I should offer help in case they need anything. Keep the '\n",
      " 'tone positive and welcoming. Let me check if there are any other elements '\n",
      " 'they might expect, like a joke or a specific question, but since they just '\n",
      " \"said hi, it's best to keep it simple. Alright, time to put it all together.\\n\"\n",
      " '</think>\\n'\n",
      " '\\n'\n",
      " \"Hello! How are you today? 😊 I'm doing well, thanks for asking. How about \"\n",
      " 'you? If you have any questions or need help with anything, feel free to ask! '\n",
      " '🌟')\n",
      "'ToolCalls: []'\n"
     ]
    }
   ],
   "source": [
    "model_with_tools = model.bind_tools(tools)\n",
    "response = model_with_tools.invoke([HumanMessage(content=\"Hi!\")])\n",
    "\n",
    "pprint(f\"ContentString: {response.content}\")\n",
    "pprint(f\"ToolCalls: {response.tool_calls}\")"
   ]
  },
  {
   "cell_type": "code",
   "execution_count": 7,
   "id": "df5a5c48",
   "metadata": {},
   "outputs": [
    {
     "name": "stdout",
     "output_type": "stream",
     "text": [
      "ContentString: <think>\n",
      "Okay, the user is asking about the weather in San Francisco. Let me start by recalling the current weather conditions. I know that San Francisco has a temperate oceanic climate, which means it's generally mild with cool winters and warm summers. But I need to check the latest data.\n",
      "\n",
      "First, I should determine the current date. Since the user hasn't specified, I'll assume today's date. Let me check the current temperature. From what I remember, San Francisco's average temperature is around 50-60°F (10-15°C) in winter and 60-70°F (15-21°C) in summer. But I need to be precise.\n",
      "\n",
      "I should also consider the season. If it's winter, the temperatures might be lower. Let me think... If today is a typical winter day, maybe around 50-55°F. But I need to confirm. Alternatively, if it's summer, maybe 65-70°F. Wait, but without knowing the exact date, I can't be certain. Maybe I should mention the typical range and suggest checking a weather service for the most accurate info.\n",
      "\n",
      "Also, the user might be planning an activity, so they might need details like precipitation chance, wind speed, or humidity. But since the question is general, I should keep it simple. Maybe mention the typical weather patterns and suggest checking a reliable source for real-time data. I should avoid making up specific dates or times unless they're current.\n",
      "</think>\n",
      "\n",
      "The weather in San Francisco is generally mild and temperate, with cool winters and warm summers. Here’s a general overview based on typical seasonal patterns:\n",
      "\n",
      "- **Winter (December–February):** Average temperatures range from **50°F to 55°F (10°C to 13°C)**. Winters are chilly, with occasional rain and fog, especially in January and February. The city often experiences a \"marine air mass\" influence, leading to cool, damp conditions.\n",
      "\n",
      "- **Summer (June–August):** Temperatures rise to **60°F to 70°F (15°C to 21°C)**, with mild days and cooler nights. Summer can be sunny, but thunderstorms are possible, especially in July and August.\n",
      "\n",
      "- **Rainfall:** San Francisco receives about **20–30 inches of rain annually**, with most precipitation occurring in winter. Rain is common, especially in the San Francisco Peninsula, though the city itself is generally\n",
      "ToolCalls: []\n"
     ]
    }
   ],
   "source": [
    "response = model_with_tools.invoke([HumanMessage(content=\"What's the weather in SF?\")])\n",
    "\n",
    "print(f\"ContentString: {response.content}\")\n",
    "print(f\"ToolCalls: {response.tool_calls}\")"
   ]
  }
 ],
 "metadata": {
  "kernelspec": {
   "display_name": "llm",
   "language": "python",
   "name": "python3"
  },
  "language_info": {
   "codemirror_mode": {
    "name": "ipython",
    "version": 3
   },
   "file_extension": ".py",
   "mimetype": "text/x-python",
   "name": "python",
   "nbconvert_exporter": "python",
   "pygments_lexer": "ipython3",
   "version": "3.12.6"
  }
 },
 "nbformat": 4,
 "nbformat_minor": 5
}
